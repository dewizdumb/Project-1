{
 "cells": [
  {
   "cell_type": "code",
   "execution_count": 1,
   "metadata": {},
   "outputs": [
    {
     "name": "stderr",
     "output_type": "stream",
     "text": [
      "WARNING:root:Requests made without an app_token will be subject to strict throttling limits.\n"
     ]
    },
    {
     "data": {
      "text/plain": [
       "action                   20000\n",
       "boro                     20000\n",
       "building                 19958\n",
       "camis                    20000\n",
       "critical_flag            20000\n",
       "cuisine_description      20000\n",
       "dba                      20000\n",
       "grade                    10522\n",
       "grade_date               10522\n",
       "inspection_date          20000\n",
       "inspection_type          20000\n",
       "phone                    20000\n",
       "record_date              20000\n",
       "score                    19242\n",
       "street                   20000\n",
       "violation_code           19762\n",
       "violation_description    19672\n",
       "zipcode                  19579\n",
       "dtype: int64"
      ]
     },
     "execution_count": 1,
     "metadata": {},
     "output_type": "execute_result"
    }
   ],
   "source": [
    "import pandas as pd\n",
    "import numpy as np\n",
    "import requests\n",
    "import json\n",
    "from sodapy import Socrata\n",
    "\n",
    "client = Socrata(\"data.cityofnewyork.us\", None)\n",
    "results = client.get(\"43nn-pn8j\", limit=20000)\n",
    "results_df = pd.DataFrame.from_records(results)\n",
    "results_df.count()"
   ]
  },
  {
   "cell_type": "code",
   "execution_count": 4,
   "metadata": {},
   "outputs": [],
   "source": [
    "results_df.to_csv('Outputs/smallpractice_data.csv', index=True)"
   ]
  },
  {
   "cell_type": "markdown",
   "metadata": {},
   "source": [
    "# Step 1: Drop useless columns "
   ]
  },
  {
   "cell_type": "code",
   "execution_count": 5,
   "metadata": {},
   "outputs": [
    {
     "data": {
      "text/plain": [
       "Index(['action', 'boro', 'building', 'camis', 'critical_flag',\n",
       "       'cuisine_description', 'dba', 'grade', 'grade_date', 'inspection_date',\n",
       "       'inspection_type', 'phone', 'record_date', 'score', 'street',\n",
       "       'violation_code', 'violation_description', 'zipcode'],\n",
       "      dtype='object')"
      ]
     },
     "execution_count": 5,
     "metadata": {},
     "output_type": "execute_result"
    }
   ],
   "source": [
    "results_df.columns"
   ]
  },
  {
   "cell_type": "code",
   "execution_count": 14,
   "metadata": {},
   "outputs": [],
   "source": [
    "newresultsdf= results_df.drop(columns=['camis','building','grade_date','violation_description'])"
   ]
  },
  {
   "cell_type": "code",
   "execution_count": 15,
   "metadata": {},
   "outputs": [],
   "source": [
    "newresults2 = newresultsdf.drop(columns=['inspection_type','phone','record_date','score','violation_code','street'])"
   ]
  },
  {
   "cell_type": "code",
   "execution_count": 27,
   "metadata": {},
   "outputs": [
    {
     "data": {
      "text/html": [
       "<div>\n",
       "<style scoped>\n",
       "    .dataframe tbody tr th:only-of-type {\n",
       "        vertical-align: middle;\n",
       "    }\n",
       "\n",
       "    .dataframe tbody tr th {\n",
       "        vertical-align: top;\n",
       "    }\n",
       "\n",
       "    .dataframe thead th {\n",
       "        text-align: right;\n",
       "    }\n",
       "</style>\n",
       "<table border=\"1\" class=\"dataframe\">\n",
       "  <thead>\n",
       "    <tr style=\"text-align: right;\">\n",
       "      <th></th>\n",
       "      <th>action</th>\n",
       "      <th>boro</th>\n",
       "      <th>critical_flag</th>\n",
       "      <th>cuisine_description</th>\n",
       "      <th>dba</th>\n",
       "      <th>grade</th>\n",
       "      <th>inspection_date</th>\n",
       "      <th>zipcode</th>\n",
       "    </tr>\n",
       "  </thead>\n",
       "  <tbody>\n",
       "    <tr>\n",
       "      <th>0</th>\n",
       "      <td>Violations were cited in the following area(s).</td>\n",
       "      <td>BRONX</td>\n",
       "      <td>Critical</td>\n",
       "      <td>Bakery</td>\n",
       "      <td>MORRIS PARK BAKE SHOP</td>\n",
       "      <td>NaN</td>\n",
       "      <td>2019-05-16T00:00:00.000</td>\n",
       "      <td>10462</td>\n",
       "    </tr>\n",
       "    <tr>\n",
       "      <th>1</th>\n",
       "      <td>Violations were cited in the following area(s).</td>\n",
       "      <td>BRONX</td>\n",
       "      <td>Not Critical</td>\n",
       "      <td>Bakery</td>\n",
       "      <td>MORRIS PARK BAKE SHOP</td>\n",
       "      <td>NaN</td>\n",
       "      <td>2019-05-16T00:00:00.000</td>\n",
       "      <td>10462</td>\n",
       "    </tr>\n",
       "    <tr>\n",
       "      <th>2</th>\n",
       "      <td>Violations were cited in the following area(s).</td>\n",
       "      <td>BRONX</td>\n",
       "      <td>Not Critical</td>\n",
       "      <td>Bakery</td>\n",
       "      <td>MORRIS PARK BAKE SHOP</td>\n",
       "      <td>NaN</td>\n",
       "      <td>2019-05-16T00:00:00.000</td>\n",
       "      <td>10462</td>\n",
       "    </tr>\n",
       "    <tr>\n",
       "      <th>3</th>\n",
       "      <td>Violations were cited in the following area(s).</td>\n",
       "      <td>BRONX</td>\n",
       "      <td>Not Critical</td>\n",
       "      <td>Bakery</td>\n",
       "      <td>MORRIS PARK BAKE SHOP</td>\n",
       "      <td>NaN</td>\n",
       "      <td>2019-05-16T00:00:00.000</td>\n",
       "      <td>10462</td>\n",
       "    </tr>\n",
       "    <tr>\n",
       "      <th>4</th>\n",
       "      <td>Violations were cited in the following area(s).</td>\n",
       "      <td>BRONX</td>\n",
       "      <td>Not Critical</td>\n",
       "      <td>Bakery</td>\n",
       "      <td>MORRIS PARK BAKE SHOP</td>\n",
       "      <td>NaN</td>\n",
       "      <td>2019-05-16T00:00:00.000</td>\n",
       "      <td>10462</td>\n",
       "    </tr>\n",
       "  </tbody>\n",
       "</table>\n",
       "</div>"
      ],
      "text/plain": [
       "                                            action   boro critical_flag  \\\n",
       "0  Violations were cited in the following area(s).  BRONX      Critical   \n",
       "1  Violations were cited in the following area(s).  BRONX  Not Critical   \n",
       "2  Violations were cited in the following area(s).  BRONX  Not Critical   \n",
       "3  Violations were cited in the following area(s).  BRONX  Not Critical   \n",
       "4  Violations were cited in the following area(s).  BRONX  Not Critical   \n",
       "\n",
       "  cuisine_description                    dba grade          inspection_date  \\\n",
       "0              Bakery  MORRIS PARK BAKE SHOP   NaN  2019-05-16T00:00:00.000   \n",
       "1              Bakery  MORRIS PARK BAKE SHOP   NaN  2019-05-16T00:00:00.000   \n",
       "2              Bakery  MORRIS PARK BAKE SHOP   NaN  2019-05-16T00:00:00.000   \n",
       "3              Bakery  MORRIS PARK BAKE SHOP   NaN  2019-05-16T00:00:00.000   \n",
       "4              Bakery  MORRIS PARK BAKE SHOP   NaN  2019-05-16T00:00:00.000   \n",
       "\n",
       "  zipcode  \n",
       "0   10462  \n",
       "1   10462  \n",
       "2   10462  \n",
       "3   10462  \n",
       "4   10462  "
      ]
     },
     "execution_count": 27,
     "metadata": {},
     "output_type": "execute_result"
    }
   ],
   "source": [
    "newresults2.to_csv('Outputs/small_practice_cleaned_data.csv', index=True)\n",
    "newresults2.head()"
   ]
  },
  {
   "cell_type": "code",
   "execution_count": 30,
   "metadata": {},
   "outputs": [],
   "source": [
    "#clean data: change column headings, add index, fix timestamp to YYMMDD, Add Inspection Bins per year\n",
    "#combine cuisines if desired?"
   ]
  },
  {
   "cell_type": "code",
   "execution_count": 18,
   "metadata": {},
   "outputs": [],
   "source": [
    "# Bar Graph 1: count of most popular restaurants names\n",
    "# groupby dba, bargraph with top 10 counted restaurant names\n",
    "# delete null values in restaurant names"
   ]
  },
  {
   "cell_type": "code",
   "execution_count": 28,
   "metadata": {},
   "outputs": [],
   "source": [
    "# BarGraph 2: count of restaurants per borough\n",
    "# delete restaurants that don't have an assigned borough"
   ]
  },
  {
   "cell_type": "code",
   "execution_count": 29,
   "metadata": {},
   "outputs": [],
   "source": [
    "# Graph 3: heatmap of restaurant density by zipcode\n",
    "## delete restaurants that don't have an assigned zipcode"
   ]
  },
  {
   "cell_type": "code",
   "execution_count": 31,
   "metadata": {},
   "outputs": [],
   "source": [
    "# Graph 4: scatter plot, Y= grades, x = cuisines\n",
    "## Bin grades into integers (6=A, 5=B, 4=C, etc), and average them per cuisine. Label points."
   ]
  },
  {
   "cell_type": "code",
   "execution_count": 32,
   "metadata": {},
   "outputs": [],
   "source": [
    "# Graph 4b: scatter plot, Y= closures, x = cuisines\n",
    "# count of closures by cuisine. Label points."
   ]
  },
  {
   "cell_type": "code",
   "execution_count": 33,
   "metadata": {},
   "outputs": [],
   "source": [
    "# Graph 5: heatmap of inspections per zipcode\n",
    "# delete entries without inspections or zipcodes"
   ]
  },
  {
   "cell_type": "code",
   "execution_count": 34,
   "metadata": {},
   "outputs": [],
   "source": [
    "# Graph 6: Bargraph of closures and reclosures by borough\n",
    "# count closures, count reclosures, group by borough"
   ]
  },
  {
   "cell_type": "code",
   "execution_count": 35,
   "metadata": {},
   "outputs": [],
   "source": [
    "# Graph 6b: heatmap of re/closures by zipcode\n",
    "# restates graph 6"
   ]
  },
  {
   "cell_type": "code",
   "execution_count": 36,
   "metadata": {},
   "outputs": [],
   "source": [
    "# Graph 7: heatmap of critical violations by zipcode or scatterplot by cuisine\n",
    "# describes which areas or cuisines are the most dangerous, as critical violations led foodborne illness"
   ]
  },
  {
   "cell_type": "code",
   "execution_count": 25,
   "metadata": {},
   "outputs": [],
   "source": [
    "# Graph 8: heatmap of grades by zipcode or scatterplot by cuisine\n",
    "# describes best and worst zipcodes, shows good/bad restaurants by cuisine"
   ]
  },
  {
   "cell_type": "code",
   "execution_count": 37,
   "metadata": {},
   "outputs": [],
   "source": [
    "#Graph 9: bargraph showing inspections per year, closures per year\n",
    " "
   ]
  },
  {
   "cell_type": "code",
   "execution_count": 38,
   "metadata": {},
   "outputs": [],
   "source": [
    "# Analysis??? Opportunities for Regressions, chi-squares?"
   ]
  },
  {
   "cell_type": "code",
   "execution_count": null,
   "metadata": {},
   "outputs": [],
   "source": []
  }
 ],
 "metadata": {
  "kernelspec": {
   "display_name": "Python [conda env:PythonData] *",
   "language": "python",
   "name": "conda-env-PythonData-py"
  },
  "language_info": {
   "codemirror_mode": {
    "name": "ipython",
    "version": 3
   },
   "file_extension": ".py",
   "mimetype": "text/x-python",
   "name": "python",
   "nbconvert_exporter": "python",
   "pygments_lexer": "ipython3",
   "version": "3.7.3"
  }
 },
 "nbformat": 4,
 "nbformat_minor": 2
}
