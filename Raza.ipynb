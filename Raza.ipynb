{
 "cells": [
  {
   "cell_type": "code",
   "execution_count": 1,
   "metadata": {},
   "outputs": [],
   "source": [
    "#Import Dependencies\n",
    "import pandas as pd\n",
    "import numpy as np\n",
    "import requests\n",
    "import json\n",
    "from sodapy import Socrata\n",
    "import matplotlib.pyplot as plt\n",
    "import warnings\n",
    "warnings.filterwarnings('ignore')\n"
   ]
  },
  {
   "cell_type": "code",
   "execution_count": 2,
   "metadata": {},
   "outputs": [
    {
     "name": "stderr",
     "output_type": "stream",
     "text": [
      "WARNING:root:Requests made without an app_token will be subject to strict throttling limits.\n"
     ]
    },
    {
     "data": {
      "text/plain": [
       "action                   20000\n",
       "boro                     20000\n",
       "building                 19949\n",
       "camis                    20000\n",
       "critical_flag            20000\n",
       "cuisine_description      20000\n",
       "dba                      20000\n",
       "grade                    10556\n",
       "grade_date               10556\n",
       "inspection_date          20000\n",
       "inspection_type          20000\n",
       "phone                    20000\n",
       "record_date              20000\n",
       "score                    19248\n",
       "street                   20000\n",
       "violation_code           19763\n",
       "violation_description    19672\n",
       "zipcode                  19591\n",
       "dtype: int64"
      ]
     },
     "execution_count": 2,
     "metadata": {},
     "output_type": "execute_result"
    }
   ],
   "source": [
    "client = Socrata(\"data.cityofnewyork.us\", None)\n",
    "results = client.get(\"43nn-pn8j\", limit=20000)\n",
    "results_df = pd.DataFrame.from_records(results)\n",
    "results_df.count()"
   ]
  },
  {
   "cell_type": "code",
   "execution_count": 3,
   "metadata": {},
   "outputs": [],
   "source": [
    "results_df.to_csv('Outputs/smallpractice_data.csv', index=True)"
   ]
  },
  {
   "cell_type": "markdown",
   "metadata": {},
   "source": [
    "# Step 1: Drop useless columns "
   ]
  },
  {
   "cell_type": "code",
   "execution_count": 4,
   "metadata": {},
   "outputs": [
    {
     "data": {
      "text/plain": [
       "Index(['action', 'boro', 'building', 'camis', 'critical_flag',\n",
       "       'cuisine_description', 'dba', 'grade', 'grade_date', 'inspection_date',\n",
       "       'inspection_type', 'phone', 'record_date', 'score', 'street',\n",
       "       'violation_code', 'violation_description', 'zipcode'],\n",
       "      dtype='object')"
      ]
     },
     "execution_count": 4,
     "metadata": {},
     "output_type": "execute_result"
    }
   ],
   "source": [
    "results_df.columns"
   ]
  },
  {
   "cell_type": "code",
   "execution_count": 5,
   "metadata": {},
   "outputs": [],
   "source": [
    "newresultsdf= results_df.drop(columns=['camis','building','grade_date','violation_description'])"
   ]
  },
  {
   "cell_type": "code",
   "execution_count": 6,
   "metadata": {},
   "outputs": [],
   "source": [
    "newresults2 = newresultsdf.drop(columns=['inspection_type','phone','record_date','score','violation_code','street'])"
   ]
  },
  {
   "cell_type": "code",
   "execution_count": 7,
   "metadata": {},
   "outputs": [
    {
     "data": {
      "text/html": [
       "<div>\n",
       "<style scoped>\n",
       "    .dataframe tbody tr th:only-of-type {\n",
       "        vertical-align: middle;\n",
       "    }\n",
       "\n",
       "    .dataframe tbody tr th {\n",
       "        vertical-align: top;\n",
       "    }\n",
       "\n",
       "    .dataframe thead th {\n",
       "        text-align: right;\n",
       "    }\n",
       "</style>\n",
       "<table border=\"1\" class=\"dataframe\">\n",
       "  <thead>\n",
       "    <tr style=\"text-align: right;\">\n",
       "      <th></th>\n",
       "      <th>action</th>\n",
       "      <th>boro</th>\n",
       "      <th>critical_flag</th>\n",
       "      <th>cuisine_description</th>\n",
       "      <th>dba</th>\n",
       "      <th>grade</th>\n",
       "      <th>inspection_date</th>\n",
       "      <th>zipcode</th>\n",
       "    </tr>\n",
       "  </thead>\n",
       "  <tbody>\n",
       "    <tr>\n",
       "      <th>0</th>\n",
       "      <td>Violations were cited in the following area(s).</td>\n",
       "      <td>BRONX</td>\n",
       "      <td>Critical</td>\n",
       "      <td>Bakery</td>\n",
       "      <td>MORRIS PARK BAKE SHOP</td>\n",
       "      <td>NaN</td>\n",
       "      <td>2019-05-16T00:00:00.000</td>\n",
       "      <td>10462</td>\n",
       "    </tr>\n",
       "    <tr>\n",
       "      <th>1</th>\n",
       "      <td>Violations were cited in the following area(s).</td>\n",
       "      <td>BRONX</td>\n",
       "      <td>Not Critical</td>\n",
       "      <td>Bakery</td>\n",
       "      <td>MORRIS PARK BAKE SHOP</td>\n",
       "      <td>NaN</td>\n",
       "      <td>2019-05-16T00:00:00.000</td>\n",
       "      <td>10462</td>\n",
       "    </tr>\n",
       "    <tr>\n",
       "      <th>2</th>\n",
       "      <td>Violations were cited in the following area(s).</td>\n",
       "      <td>BRONX</td>\n",
       "      <td>Not Critical</td>\n",
       "      <td>Bakery</td>\n",
       "      <td>MORRIS PARK BAKE SHOP</td>\n",
       "      <td>NaN</td>\n",
       "      <td>2019-05-16T00:00:00.000</td>\n",
       "      <td>10462</td>\n",
       "    </tr>\n",
       "    <tr>\n",
       "      <th>3</th>\n",
       "      <td>Violations were cited in the following area(s).</td>\n",
       "      <td>BRONX</td>\n",
       "      <td>Not Critical</td>\n",
       "      <td>Bakery</td>\n",
       "      <td>MORRIS PARK BAKE SHOP</td>\n",
       "      <td>NaN</td>\n",
       "      <td>2019-05-16T00:00:00.000</td>\n",
       "      <td>10462</td>\n",
       "    </tr>\n",
       "    <tr>\n",
       "      <th>4</th>\n",
       "      <td>Violations were cited in the following area(s).</td>\n",
       "      <td>BRONX</td>\n",
       "      <td>Not Critical</td>\n",
       "      <td>Bakery</td>\n",
       "      <td>MORRIS PARK BAKE SHOP</td>\n",
       "      <td>NaN</td>\n",
       "      <td>2019-05-16T00:00:00.000</td>\n",
       "      <td>10462</td>\n",
       "    </tr>\n",
       "  </tbody>\n",
       "</table>\n",
       "</div>"
      ],
      "text/plain": [
       "                                            action   boro critical_flag  \\\n",
       "0  Violations were cited in the following area(s).  BRONX      Critical   \n",
       "1  Violations were cited in the following area(s).  BRONX  Not Critical   \n",
       "2  Violations were cited in the following area(s).  BRONX  Not Critical   \n",
       "3  Violations were cited in the following area(s).  BRONX  Not Critical   \n",
       "4  Violations were cited in the following area(s).  BRONX  Not Critical   \n",
       "\n",
       "  cuisine_description                    dba grade          inspection_date  \\\n",
       "0              Bakery  MORRIS PARK BAKE SHOP   NaN  2019-05-16T00:00:00.000   \n",
       "1              Bakery  MORRIS PARK BAKE SHOP   NaN  2019-05-16T00:00:00.000   \n",
       "2              Bakery  MORRIS PARK BAKE SHOP   NaN  2019-05-16T00:00:00.000   \n",
       "3              Bakery  MORRIS PARK BAKE SHOP   NaN  2019-05-16T00:00:00.000   \n",
       "4              Bakery  MORRIS PARK BAKE SHOP   NaN  2019-05-16T00:00:00.000   \n",
       "\n",
       "  zipcode  \n",
       "0   10462  \n",
       "1   10462  \n",
       "2   10462  \n",
       "3   10462  \n",
       "4   10462  "
      ]
     },
     "execution_count": 7,
     "metadata": {},
     "output_type": "execute_result"
    }
   ],
   "source": [
    "newresults2.to_csv('Outputs/small_practice_cleaned_data.csv', index=True)\n",
    "newresults2.head()"
   ]
  },
  {
   "cell_type": "code",
   "execution_count": 8,
   "metadata": {},
   "outputs": [
    {
     "data": {
      "text/html": [
       "<div>\n",
       "<style scoped>\n",
       "    .dataframe tbody tr th:only-of-type {\n",
       "        vertical-align: middle;\n",
       "    }\n",
       "\n",
       "    .dataframe tbody tr th {\n",
       "        vertical-align: top;\n",
       "    }\n",
       "\n",
       "    .dataframe thead th {\n",
       "        text-align: right;\n",
       "    }\n",
       "</style>\n",
       "<table border=\"1\" class=\"dataframe\">\n",
       "  <thead>\n",
       "    <tr style=\"text-align: right;\">\n",
       "      <th></th>\n",
       "      <th>action</th>\n",
       "      <th>boro</th>\n",
       "      <th>critical_flag</th>\n",
       "      <th>cuisine_description</th>\n",
       "      <th>dba</th>\n",
       "      <th>grade</th>\n",
       "      <th>inspection_date</th>\n",
       "      <th>zipcode</th>\n",
       "    </tr>\n",
       "  </thead>\n",
       "  <tbody>\n",
       "    <tr>\n",
       "      <th>count</th>\n",
       "      <td>20000</td>\n",
       "      <td>20000</td>\n",
       "      <td>20000</td>\n",
       "      <td>20000</td>\n",
       "      <td>20000</td>\n",
       "      <td>10556</td>\n",
       "      <td>20000</td>\n",
       "      <td>19591</td>\n",
       "    </tr>\n",
       "    <tr>\n",
       "      <th>unique</th>\n",
       "      <td>5</td>\n",
       "      <td>5</td>\n",
       "      <td>3</td>\n",
       "      <td>57</td>\n",
       "      <td>1065</td>\n",
       "      <td>5</td>\n",
       "      <td>1077</td>\n",
       "      <td>169</td>\n",
       "    </tr>\n",
       "    <tr>\n",
       "      <th>top</th>\n",
       "      <td>Violations were cited in the following area(s).</td>\n",
       "      <td>MANHATTAN</td>\n",
       "      <td>Critical</td>\n",
       "      <td>American</td>\n",
       "      <td>MCDONALD'S</td>\n",
       "      <td>A</td>\n",
       "      <td>2019-05-16T00:00:00.000</td>\n",
       "      <td>10003</td>\n",
       "    </tr>\n",
       "    <tr>\n",
       "      <th>freq</th>\n",
       "      <td>19010</td>\n",
       "      <td>10172</td>\n",
       "      <td>10775</td>\n",
       "      <td>6513</td>\n",
       "      <td>347</td>\n",
       "      <td>8747</td>\n",
       "      <td>66</td>\n",
       "      <td>812</td>\n",
       "    </tr>\n",
       "  </tbody>\n",
       "</table>\n",
       "</div>"
      ],
      "text/plain": [
       "                                                 action       boro  \\\n",
       "count                                             20000      20000   \n",
       "unique                                                5          5   \n",
       "top     Violations were cited in the following area(s).  MANHATTAN   \n",
       "freq                                              19010      10172   \n",
       "\n",
       "       critical_flag cuisine_description         dba  grade  \\\n",
       "count          20000               20000       20000  10556   \n",
       "unique             3                  57        1065      5   \n",
       "top         Critical            American  MCDONALD'S      A   \n",
       "freq           10775                6513         347   8747   \n",
       "\n",
       "                inspection_date zipcode  \n",
       "count                     20000   19591  \n",
       "unique                     1077     169  \n",
       "top     2019-05-16T00:00:00.000   10003  \n",
       "freq                         66     812  "
      ]
     },
     "execution_count": 8,
     "metadata": {},
     "output_type": "execute_result"
    }
   ],
   "source": [
    "#clean data: change column headings, add index, fix timestamp to YYMMDD, Count inspections per year\n",
    "#combine cuisines if desired? --Not desired, only 57 types.\n",
    "newresults2.describe()"
   ]
  },
  {
   "cell_type": "code",
   "execution_count": 9,
   "metadata": {},
   "outputs": [
    {
     "data": {
      "text/plain": [
       "MANHATTAN        10172\n",
       "QUEENS            4134\n",
       "BROOKLYN          3287\n",
       "BRONX             1298\n",
       "STATEN ISLAND     1109\n",
       "Name: boro, dtype: int64"
      ]
     },
     "execution_count": 9,
     "metadata": {},
     "output_type": "execute_result"
    }
   ],
   "source": [
    "countboro = newresults2[\"boro\"].value_counts()\n",
    "countboro"
   ]
  },
  {
   "cell_type": "code",
   "execution_count": 10,
   "metadata": {},
   "outputs": [
    {
     "data": {
      "text/plain": [
       "Violations were cited in the following area(s).                                                                                        19010\n",
       "Establishment Closed by DOHMH.  Violations were cited in the following area(s) and those requiring immediate action were addressed.      559\n",
       "No violations were recorded at the time of this inspection.                                                                              229\n",
       "Establishment re-opened by DOHMH                                                                                                         165\n",
       "Establishment re-closed by DOHMH                                                                                                          37\n",
       "Name: action, dtype: int64"
      ]
     },
     "execution_count": 10,
     "metadata": {},
     "output_type": "execute_result"
    }
   ],
   "source": [
    "countaction = newresults2[\"action\"].value_counts()\n",
    "countaction"
   ]
  },
  {
   "cell_type": "code",
   "execution_count": 11,
   "metadata": {},
   "outputs": [
    {
     "data": {
      "text/plain": [
       "A    8747\n",
       "B    1145\n",
       "C     383\n",
       "Z     180\n",
       "P     101\n",
       "Name: grade, dtype: int64"
      ]
     },
     "execution_count": 11,
     "metadata": {},
     "output_type": "execute_result"
    }
   ],
   "source": [
    "countgrade = newresults2[\"grade\"].value_counts()\n",
    "countgrade"
   ]
  },
  {
   "cell_type": "code",
   "execution_count": 12,
   "metadata": {},
   "outputs": [
    {
     "data": {
      "text/plain": [
       "American         6513\n",
       "Italian          2129\n",
       "Pizza            1162\n",
       "Bakery            805\n",
       "Pizza/Italian     762\n",
       "Name: cuisine_description, dtype: int64"
      ]
     },
     "execution_count": 12,
     "metadata": {},
     "output_type": "execute_result"
    }
   ],
   "source": [
    "countcuisine = newresults2[\"cuisine_description\"].value_counts()\n",
    "countcuisine.head()"
   ]
  },
  {
   "cell_type": "code",
   "execution_count": 13,
   "metadata": {},
   "outputs": [
    {
     "data": {
      "text/plain": [
       "MCDONALD'S                 347\n",
       "WHITE CASTLE               145\n",
       "STARBUCKS                  127\n",
       "BURGER KING                103\n",
       "ALFONSO'S PASTRY SHOPPE     79\n",
       "Name: dba, dtype: int64"
      ]
     },
     "execution_count": 13,
     "metadata": {},
     "output_type": "execute_result"
    }
   ],
   "source": [
    "countdba = newresults2[\"dba\"].value_counts()\n",
    "countdba.head()"
   ]
  },
  {
   "cell_type": "code",
   "execution_count": 14,
   "metadata": {},
   "outputs": [
    {
     "data": {
      "text/plain": [
       "Critical          10775\n",
       "Not Critical       8897\n",
       "Not Applicable      328\n",
       "Name: critical_flag, dtype: int64"
      ]
     },
     "execution_count": 14,
     "metadata": {},
     "output_type": "execute_result"
    }
   ],
   "source": [
    "countcrit = newresults2[\"critical_flag\"].value_counts()\n",
    "countcrit"
   ]
  },
  {
   "cell_type": "code",
   "execution_count": 15,
   "metadata": {},
   "outputs": [
    {
     "data": {
      "text/plain": [
       "Index(['action', 'boro', 'critical_flag', 'cuisine_description', 'dba',\n",
       "       'grade', 'inspection_date', 'zipcode'],\n",
       "      dtype='object')"
      ]
     },
     "execution_count": 15,
     "metadata": {},
     "output_type": "execute_result"
    }
   ],
   "source": [
    "newresults2.columns"
   ]
  },
  {
   "cell_type": "code",
   "execution_count": 16,
   "metadata": {},
   "outputs": [
    {
     "data": {
      "text/html": [
       "<div>\n",
       "<style scoped>\n",
       "    .dataframe tbody tr th:only-of-type {\n",
       "        vertical-align: middle;\n",
       "    }\n",
       "\n",
       "    .dataframe tbody tr th {\n",
       "        vertical-align: top;\n",
       "    }\n",
       "\n",
       "    .dataframe thead th {\n",
       "        text-align: right;\n",
       "    }\n",
       "</style>\n",
       "<table border=\"1\" class=\"dataframe\">\n",
       "  <thead>\n",
       "    <tr style=\"text-align: right;\">\n",
       "      <th></th>\n",
       "      <th>Name</th>\n",
       "      <th>Borough</th>\n",
       "      <th>Zip_Code</th>\n",
       "      <th>Cuisine</th>\n",
       "      <th>Inspection</th>\n",
       "      <th>Grade</th>\n",
       "      <th>Critical_Violations</th>\n",
       "      <th>Action</th>\n",
       "    </tr>\n",
       "  </thead>\n",
       "  <tbody>\n",
       "    <tr>\n",
       "      <th>0</th>\n",
       "      <td>MORRIS PARK BAKE SHOP</td>\n",
       "      <td>BRONX</td>\n",
       "      <td>10462</td>\n",
       "      <td>Bakery</td>\n",
       "      <td>2019-05-16T00:00:00.000</td>\n",
       "      <td>NaN</td>\n",
       "      <td>Critical</td>\n",
       "      <td>Violations were cited in the following area(s).</td>\n",
       "    </tr>\n",
       "    <tr>\n",
       "      <th>1</th>\n",
       "      <td>MORRIS PARK BAKE SHOP</td>\n",
       "      <td>BRONX</td>\n",
       "      <td>10462</td>\n",
       "      <td>Bakery</td>\n",
       "      <td>2019-05-16T00:00:00.000</td>\n",
       "      <td>NaN</td>\n",
       "      <td>Not Critical</td>\n",
       "      <td>Violations were cited in the following area(s).</td>\n",
       "    </tr>\n",
       "    <tr>\n",
       "      <th>2</th>\n",
       "      <td>MORRIS PARK BAKE SHOP</td>\n",
       "      <td>BRONX</td>\n",
       "      <td>10462</td>\n",
       "      <td>Bakery</td>\n",
       "      <td>2019-05-16T00:00:00.000</td>\n",
       "      <td>NaN</td>\n",
       "      <td>Not Critical</td>\n",
       "      <td>Violations were cited in the following area(s).</td>\n",
       "    </tr>\n",
       "    <tr>\n",
       "      <th>3</th>\n",
       "      <td>MORRIS PARK BAKE SHOP</td>\n",
       "      <td>BRONX</td>\n",
       "      <td>10462</td>\n",
       "      <td>Bakery</td>\n",
       "      <td>2019-05-16T00:00:00.000</td>\n",
       "      <td>NaN</td>\n",
       "      <td>Not Critical</td>\n",
       "      <td>Violations were cited in the following area(s).</td>\n",
       "    </tr>\n",
       "    <tr>\n",
       "      <th>4</th>\n",
       "      <td>MORRIS PARK BAKE SHOP</td>\n",
       "      <td>BRONX</td>\n",
       "      <td>10462</td>\n",
       "      <td>Bakery</td>\n",
       "      <td>2019-05-16T00:00:00.000</td>\n",
       "      <td>NaN</td>\n",
       "      <td>Not Critical</td>\n",
       "      <td>Violations were cited in the following area(s).</td>\n",
       "    </tr>\n",
       "  </tbody>\n",
       "</table>\n",
       "</div>"
      ],
      "text/plain": [
       "                    Name Borough Zip_Code Cuisine               Inspection  \\\n",
       "0  MORRIS PARK BAKE SHOP   BRONX    10462  Bakery  2019-05-16T00:00:00.000   \n",
       "1  MORRIS PARK BAKE SHOP   BRONX    10462  Bakery  2019-05-16T00:00:00.000   \n",
       "2  MORRIS PARK BAKE SHOP   BRONX    10462  Bakery  2019-05-16T00:00:00.000   \n",
       "3  MORRIS PARK BAKE SHOP   BRONX    10462  Bakery  2019-05-16T00:00:00.000   \n",
       "4  MORRIS PARK BAKE SHOP   BRONX    10462  Bakery  2019-05-16T00:00:00.000   \n",
       "\n",
       "  Grade Critical_Violations                                           Action  \n",
       "0   NaN            Critical  Violations were cited in the following area(s).  \n",
       "1   NaN        Not Critical  Violations were cited in the following area(s).  \n",
       "2   NaN        Not Critical  Violations were cited in the following area(s).  \n",
       "3   NaN        Not Critical  Violations were cited in the following area(s).  \n",
       "4   NaN        Not Critical  Violations were cited in the following area(s).  "
      ]
     },
     "execution_count": 16,
     "metadata": {},
     "output_type": "execute_result"
    }
   ],
   "source": [
    "final = newresults2.rename(columns={\"action\": \"Action\",\n",
    "                                    \"boro\": \"Borough\",\n",
    "                                    \"critical_flag\": \"Critical_Violations\",\n",
    "                                    \"cuisine_description\": \"Cuisine\",\n",
    "                                    \"dba\": \"Name\",\n",
    "                                    \"grade\": \"Grade\",\n",
    "                                    \"inspection_date\": \"Inspection\",\n",
    "                                    \"zipcode\": \"Zip_Code\"\n",
    "                                   })\n",
    "final_df = final[['Name','Borough','Zip_Code','Cuisine','Inspection','Grade','Critical_Violations','Action']]\n",
    "final_df.head()\n"
   ]
  },
  {
   "cell_type": "code",
   "execution_count": 17,
   "metadata": {},
   "outputs": [
    {
     "data": {
      "text/plain": [
       "2014       9\n",
       "2015     604\n",
       "2016    4372\n",
       "2017    5208\n",
       "2018    6574\n",
       "2019    3233\n",
       "Name: Inspect, dtype: int64"
      ]
     },
     "execution_count": 17,
     "metadata": {},
     "output_type": "execute_result"
    }
   ],
   "source": [
    "final_df['Inspect'] = pd.to_datetime(final_df['Inspection'], errors='coerce')\n",
    "final_df['Inspect'] = final_df['Inspect'].dt.strftime('%Y')\n",
    "countyear = final_df['Inspect'].value_counts()\n",
    "dyear = countyear.sort_index(axis=0, level=None, ascending=True, inplace=False, kind='quicksort', na_position='last', sort_remaining=True)\n",
    "dyear"
   ]
  },
  {
   "cell_type": "code",
   "execution_count": null,
   "metadata": {},
   "outputs": [],
   "source": []
  },
  {
   "cell_type": "markdown",
   "metadata": {},
   "source": [
    "# Start of Charts"
   ]
  },
  {
   "cell_type": "code",
   "execution_count": 18,
   "metadata": {},
   "outputs": [],
   "source": [
    "# Bar Graph 1: count of most popular restaurants names\n",
    "# groupby dba, bargraph with top 10 counted restaurant names\n",
    "# delete null values in restaurant names"
   ]
  },
  {
   "cell_type": "code",
   "execution_count": 19,
   "metadata": {},
   "outputs": [
    {
     "data": {
      "image/png": "[encoded data removed]",
      "text/plain": [
       "<Figure size 432x288 with 1 Axes>"
      ]
     },
     "metadata": {},
     "output_type": "display_data"
    },
    {
     "data": {
      "text/plain": [
       "<Figure size 432x288 with 0 Axes>"
      ]
     },
     "metadata": {},
     "output_type": "display_data"
    }
   ],
   "source": [
    "# BarGraph 2: count of restaurants per borough\n",
    "# delete restaurants that don't have an assigned borough\n",
    "\n",
    "# BarGraph 2: count of restaurants per borough\n",
    "# delete restaurants that don't have an assigned borough\n",
    "\n",
    "labels = \"Bronx\",\"Manhattan\",\"Staten Island\",\"Brooklyn\",\"Queens\"\n",
    "sizes = [1299, 10170, 1119, 3282, 4130]\n",
    "colors = [\"green\",\"lightblue\",\"red\",\"yellow\",\"violet\"]\n",
    "explode = (0, 0, 0, 0,0) \n",
    "plt.pie(sizes, explode=explode, labels=labels, colors=colors,\n",
    "autopct='%1.1f%%', shadow=True, startangle=140)\n",
    "plt.title(\"Count of Restaurants per Borough\")\n",
    "plt.axis('equal')\n",
    "plt.show()\n",
    "\n",
    "plt.savefig('Outputs/Count_restaurants.png')"
   ]
  },
  {
   "cell_type": "code",
   "execution_count": 20,
   "metadata": {},
   "outputs": [],
   "source": [
    "# Graph 3: heatmap of restaurant density by zipcode\n",
    "## delete restaurants that don't have an assigned zipcode"
   ]
  },
  {
   "cell_type": "code",
   "execution_count": 21,
   "metadata": {},
   "outputs": [],
   "source": [
    "# Graph 4: scatter plot, Y= grades, x = cuisines\n",
    "## Bin grades into integers (6=A, 5=B, 4=C, etc), and average them per cuisine. Label points.\n"
   ]
  },
  {
   "cell_type": "code",
   "execution_count": 22,
   "metadata": {},
   "outputs": [],
   "source": [
    "# Graph 4b: scatter plot, Y= closures, x = cuisines\n",
    "# count of closures by cuisine. Label points."
   ]
  },
  {
   "cell_type": "code",
   "execution_count": 23,
   "metadata": {},
   "outputs": [],
   "source": [
    "# Graph 5: heatmap of inspections per zipcode\n",
    "# delete entries without inspections or zipcodes"
   ]
  },
  {
   "cell_type": "code",
   "execution_count": 24,
   "metadata": {},
   "outputs": [],
   "source": [
    "# Graph 6: Bargraph of closures and reclosures by borough\n",
    "# count closures, count reclosures, group by borough"
   ]
  },
  {
   "cell_type": "code",
   "execution_count": 25,
   "metadata": {},
   "outputs": [],
   "source": [
    "# Graph 6b: heatmap of re/closures by zipcode\n",
    "# restates graph 6"
   ]
  },
  {
   "cell_type": "code",
   "execution_count": 26,
   "metadata": {},
   "outputs": [],
   "source": [
    "# Graph 7: heatmap of critical violations by zipcode or scatterplot by cuisine\n",
    "# describes which areas or cuisines are the most dangerous, as critical violations led foodborne illness"
   ]
  },
  {
   "cell_type": "code",
   "execution_count": 27,
   "metadata": {},
   "outputs": [],
   "source": [
    "# Graph 8: heatmap of grades by zipcode or scatterplot by cuisine\n",
    "# describes best and worst zipcodes, shows good/bad restaurants by cuisine"
   ]
  },
  {
   "cell_type": "code",
   "execution_count": 28,
   "metadata": {},
   "outputs": [
    {
     "data": {
      "image/png": "[encoded data removed]",
      "text/plain": [
       "<Figure size 432x288 with 1 Axes>"
      ]
     },
     "metadata": {
      "needs_background": "light"
     },
     "output_type": "display_data"
    }
   ],
   "source": [
    "#Graph 9: bargraph showing inspections per year, closures per year\n",
    "\n",
    "x_axis = np.arange(0, len(dyear))\n",
    "tick_locations = []\n",
    "for x in x_axis:\n",
    "    tick_locations.append(x)\n",
    "\n",
    "plt.title(\"Inspections per Year\")\n",
    "plt.xlabel(\"Year\")\n",
    "plt.ylabel(\"Inspections\")\n",
    "\n",
    "plt.xlim(-0.75, len(dyear)-.25)\n",
    "plt.ylim(0, max(dyear) + 500)\n",
    "\n",
    "plt.bar(x_axis, dyear, facecolor=\"red\", alpha=0.75, align=\"center\")\n",
    "plt.xticks(tick_locations, dyear.index)\n",
    "\n",
    "plt.tight_layout()\n",
    "plt.show()"
   ]
  },
  {
   "cell_type": "code",
   "execution_count": 34,
   "metadata": {},
   "outputs": [
    {
     "data": {
      "image/png": "[encoded data removed]",
      "text/plain": [
       "<Figure size 432x288 with 1 Axes>"
      ]
     },
     "metadata": {
      "needs_background": "light"
     },
     "output_type": "display_data"
    }
   ],
   "source": [
    "#Graph 9b: bargraph showing closures per year\n",
    "# Converting the \"duration (seconds)\" column's values to numeric\n",
    "\n",
    "closures9b = final_df.copy()\n",
    "closures9b_df = closures9b.loc[closures9b['Action'] == \n",
    "                               \"Establishment Closed by DOHMH.  Violations were cited in the following area(s) and those requiring immediate action were addressed.\", :]\n",
    "closures9b_df2 = closures9b.loc[closures9b['Action'] == \"Establishment re-closed by DOHMH\", :]\n",
    "\n",
    "# Count how many sightings have occured within each state\n",
    "closures9b_counts = closures9b_df[\"Borough\"].value_counts()\n",
    "closures9b_counts2 = closures9b_df2[\"Borough\"].value_counts()\n",
    "closures9b1 = pd.concat([closures9b_counts,closures9b_counts2], axis=1, join='outer',sort=True)\n",
    "closures9b2 = np.where(np.isnan(closures9b1), 0, closures9b1)\n",
    "closures9b3 = pd.DataFrame(data=closures9b2, index=('Staten Island','Brooklyn','Manhattan','Queens','Bronx'), columns=('closures','resclosures'), dtype=None, copy=False)\n",
    "closures9b3.plot.bar()\n",
    "plt.tight_layout()\n",
    "plt.show()"
   ]
  },
  {
   "cell_type": "code",
   "execution_count": null,
   "metadata": {},
   "outputs": [],
   "source": [
    "# Analysis??? Opportunities for Regressions, chi-squares?"
   ]
  },
  {
   "cell_type": "code",
   "execution_count": null,
   "metadata": {},
   "outputs": [],
   "source": [
    "# Get input from user about zipcode. Paste list of restaurants names from zipcode. \n",
    "# Get information from user about restaurant name. Print restaurant grade."
   ]
  }
 ],
 "metadata": {
  "kernelspec": {
   "display_name": "Python 3",
   "language": "python",
   "name": "python3"
  },
  "language_info": {
   "codemirror_mode": {
    "name": "ipython",
    "version": 3
   },
   "file_extension": ".py",
   "mimetype": "text/x-python",
   "name": "python",
   "nbconvert_exporter": "python",
   "pygments_lexer": "ipython3",
   "version": "3.7.3"
  }
 },
 "nbformat": 4,
 "nbformat_minor": 2
}
